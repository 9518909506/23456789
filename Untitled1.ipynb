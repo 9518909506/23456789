{
 "cells": [
  {
   "cell_type": "code",
   "execution_count": 1,
   "id": "f3f55b38-b459-4fde-a1c3-04de567cc159",
   "metadata": {},
   "outputs": [],
   "source": [
    "f=open(\"test.txt\",'w')"
   ]
  },
  {
   "cell_type": "code",
   "execution_count": 2,
   "id": "57de37b4-28d9-4f15-85ba-005321c8f7ac",
   "metadata": {},
   "outputs": [
    {
     "data": {
      "text/plain": [
       "'/home/jovyan/work'"
      ]
     },
     "execution_count": 2,
     "metadata": {},
     "output_type": "execute_result"
    }
   ],
   "source": [
    "pwd"
   ]
  },
  {
   "cell_type": "code",
   "execution_count": 3,
   "id": "12d9f656-5b6d-4ec3-b993-9516092adc86",
   "metadata": {},
   "outputs": [
    {
     "name": "stdout",
     "output_type": "stream",
     "text": [
      "README.md  sample-code.ipynb  test.txt  Untitled1.ipynb\n"
     ]
    }
   ],
   "source": [
    "ls"
   ]
  },
  {
   "cell_type": "code",
   "execution_count": 4,
   "id": "d720d23b-7696-4fe1-b3fd-fe6c72c56aa0",
   "metadata": {},
   "outputs": [
    {
     "data": {
      "text/plain": [
       "30"
      ]
     },
     "execution_count": 4,
     "metadata": {},
     "output_type": "execute_result"
    }
   ],
   "source": [
    "f.write(\"this is my first file to write\")"
   ]
  },
  {
   "cell_type": "code",
   "execution_count": 5,
   "id": "411f08f0-77dc-4abb-99b9-bfe4d04dcbc0",
   "metadata": {},
   "outputs": [],
   "source": [
    "f.close()"
   ]
  },
  {
   "cell_type": "code",
   "execution_count": 6,
   "id": "972c88df-695f-4cec-91c7-8750780677e2",
   "metadata": {},
   "outputs": [],
   "source": [
    "f=open(\"test.txt\",'w')"
   ]
  },
  {
   "cell_type": "code",
   "execution_count": 7,
   "id": "0cd0ffdc-c350-42fa-a383-bf6a64dea195",
   "metadata": {},
   "outputs": [
    {
     "data": {
      "text/plain": [
       "15"
      ]
     },
     "execution_count": 7,
     "metadata": {},
     "output_type": "execute_result"
    }
   ],
   "source": [
    "f.write(\"this is my file\")"
   ]
  },
  {
   "cell_type": "code",
   "execution_count": 8,
   "id": "53ee5405-1982-42af-b630-cdba15d51c7e",
   "metadata": {},
   "outputs": [],
   "source": [
    "f.close()"
   ]
  },
  {
   "cell_type": "code",
   "execution_count": 9,
   "id": "dd1be751-6c91-4bc1-aec6-269894281c04",
   "metadata": {},
   "outputs": [],
   "source": [
    "f=open(\"test.txt\",'a')"
   ]
  },
  {
   "cell_type": "code",
   "execution_count": 11,
   "id": "6dbeefa5-7e43-4691-9bd9-055d704e5350",
   "metadata": {},
   "outputs": [
    {
     "data": {
      "text/plain": [
       "94"
      ]
     },
     "execution_count": 11,
     "metadata": {},
     "output_type": "execute_result"
    }
   ],
   "source": [
    "f.write(\"wsedrtfgyuhjkl;kjhgfdsertyuiopytrtyuiop[oiuytretyuiop[oiudfsfghjkl;'.,mnbvcxsdfrtgyuhiouytrdfs\")"
   ]
  },
  {
   "cell_type": "code",
   "execution_count": 12,
   "id": "a41bcbf3-718c-4fca-965f-54a495c70fec",
   "metadata": {},
   "outputs": [],
   "source": [
    "f.close()"
   ]
  },
  {
   "cell_type": "code",
   "execution_count": 15,
   "id": "423d2b56-79bc-40bb-814f-fcd02b481389",
   "metadata": {},
   "outputs": [],
   "source": [
    "data=open(\"test.txt\",'r')"
   ]
  },
  {
   "cell_type": "code",
   "execution_count": 16,
   "id": "c0aa40f0-1367-4668-99cb-274afb285b43",
   "metadata": {},
   "outputs": [
    {
     "data": {
      "text/plain": [
       "\"this is my filewsedrtfgyuhjkl;kjhgfdsertyuiopytrtyuiop[oiuytretyuiop[oiudfsfghjkl;'.,mnbvcxsdfrtgyuhiouytrdfswsedrtfgyuhjkl;kjhgfdsertyuiopytrtyuiop[oiuytretyuiop[oiudfsfghjkl;'.,mnbvcxsdfrtgyuhiouytrdfs\""
      ]
     },
     "execution_count": 16,
     "metadata": {},
     "output_type": "execute_result"
    }
   ],
   "source": [
    "data.read()"
   ]
  },
  {
   "cell_type": "code",
   "execution_count": 17,
   "id": "75d37674-fc37-4d0c-bf48-fd879392fb29",
   "metadata": {},
   "outputs": [
    {
     "data": {
      "text/plain": [
       "''"
      ]
     },
     "execution_count": 17,
     "metadata": {},
     "output_type": "execute_result"
    }
   ],
   "source": [
    "data.readline()"
   ]
  },
  {
   "cell_type": "code",
   "execution_count": 18,
   "id": "65e0d150-8d9b-4cf5-b727-daf811573bfa",
   "metadata": {},
   "outputs": [
    {
     "data": {
      "text/plain": [
       "0"
      ]
     },
     "execution_count": 18,
     "metadata": {},
     "output_type": "execute_result"
    }
   ],
   "source": [
    "data.seek(0)"
   ]
  },
  {
   "cell_type": "code",
   "execution_count": 19,
   "id": "cb17416a-d754-44d7-8009-71bc0644dd06",
   "metadata": {},
   "outputs": [
    {
     "data": {
      "text/plain": [
       "\"this is my filewsedrtfgyuhjkl;kjhgfdsertyuiopytrtyuiop[oiuytretyuiop[oiudfsfghjkl;'.,mnbvcxsdfrtgyuhiouytrdfswsedrtfgyuhjkl;kjhgfdsertyuiopytrtyuiop[oiuytretyuiop[oiudfsfghjkl;'.,mnbvcxsdfrtgyuhiouytrdfs\""
      ]
     },
     "execution_count": 19,
     "metadata": {},
     "output_type": "execute_result"
    }
   ],
   "source": [
    "data.readline()"
   ]
  },
  {
   "cell_type": "code",
   "execution_count": null,
   "id": "052e3418-bec5-4d12-96ba-27b4a1620f27",
   "metadata": {},
   "outputs": [],
   "source": []
  }
 ],
 "metadata": {
  "kernelspec": {
   "display_name": "Python 3 (ipykernel)",
   "language": "python",
   "name": "python3"
  },
  "language_info": {
   "codemirror_mode": {
    "name": "ipython",
    "version": 3
   },
   "file_extension": ".py",
   "mimetype": "text/x-python",
   "name": "python",
   "nbconvert_exporter": "python",
   "pygments_lexer": "ipython3",
   "version": "3.10.8"
  }
 },
 "nbformat": 4,
 "nbformat_minor": 5
}
